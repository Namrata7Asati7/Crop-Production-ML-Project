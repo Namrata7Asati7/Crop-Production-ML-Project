{
 "cells": [
  {
   "cell_type": "code",
   "execution_count": 11,
   "metadata": {},
   "outputs": [],
   "source": [
    "import numpy as np\n",
    "import pandas as pd\n",
    "import seaborn as sns\n",
    "from sklearn import svm\n",
    "from sklearn.preprocessing import StandardScaler\n",
    "from sklearn.model_selection import train_test_split\n",
    "from sklearn.metrics import accuracy_score"
   ]
  },
  {
   "cell_type": "code",
   "execution_count": 12,
   "metadata": {},
   "outputs": [],
   "source": [
    "data_set = pd.read_csv('Crop_production.csv')"
   ]
  },
  {
   "cell_type": "code",
   "execution_count": 13,
   "metadata": {},
   "outputs": [
    {
     "data": {
      "text/html": [
       "<div>\n",
       "<style scoped>\n",
       "    .dataframe tbody tr th:only-of-type {\n",
       "        vertical-align: middle;\n",
       "    }\n",
       "\n",
       "    .dataframe tbody tr th {\n",
       "        vertical-align: top;\n",
       "    }\n",
       "\n",
       "    .dataframe thead th {\n",
       "        text-align: right;\n",
       "    }\n",
       "</style>\n",
       "<table border=\"1\" class=\"dataframe\">\n",
       "  <thead>\n",
       "    <tr style=\"text-align: right;\">\n",
       "      <th></th>\n",
       "      <th>Unnamed: 0</th>\n",
       "      <th>State_Name</th>\n",
       "      <th>Crop_Type</th>\n",
       "      <th>N</th>\n",
       "      <th>P</th>\n",
       "      <th>K</th>\n",
       "      <th>pH</th>\n",
       "      <th>rainfall</th>\n",
       "      <th>temperature</th>\n",
       "      <th>Area_in_hectares</th>\n",
       "      <th>Production_in_tons</th>\n",
       "      <th>Yield_ton_per_hec</th>\n",
       "      <th>Crop</th>\n",
       "    </tr>\n",
       "  </thead>\n",
       "  <tbody>\n",
       "    <tr>\n",
       "      <th>0</th>\n",
       "      <td>0</td>\n",
       "      <td>andhra pradesh</td>\n",
       "      <td>kharif</td>\n",
       "      <td>120</td>\n",
       "      <td>40</td>\n",
       "      <td>20</td>\n",
       "      <td>5.46</td>\n",
       "      <td>654.34</td>\n",
       "      <td>29.266667</td>\n",
       "      <td>7300.0</td>\n",
       "      <td>9400.0</td>\n",
       "      <td>1.287671</td>\n",
       "      <td>1</td>\n",
       "    </tr>\n",
       "    <tr>\n",
       "      <th>1</th>\n",
       "      <td>1</td>\n",
       "      <td>andhra pradesh</td>\n",
       "      <td>kharif</td>\n",
       "      <td>20</td>\n",
       "      <td>60</td>\n",
       "      <td>20</td>\n",
       "      <td>6.18</td>\n",
       "      <td>654.34</td>\n",
       "      <td>29.266667</td>\n",
       "      <td>3300.0</td>\n",
       "      <td>1000.0</td>\n",
       "      <td>0.303030</td>\n",
       "      <td>3</td>\n",
       "    </tr>\n",
       "    <tr>\n",
       "      <th>2</th>\n",
       "      <td>2</td>\n",
       "      <td>andhra pradesh</td>\n",
       "      <td>kharif</td>\n",
       "      <td>80</td>\n",
       "      <td>40</td>\n",
       "      <td>40</td>\n",
       "      <td>5.42</td>\n",
       "      <td>654.34</td>\n",
       "      <td>29.266667</td>\n",
       "      <td>10100.0</td>\n",
       "      <td>10200.0</td>\n",
       "      <td>1.009901</td>\n",
       "      <td>2</td>\n",
       "    </tr>\n",
       "    <tr>\n",
       "      <th>3</th>\n",
       "      <td>3</td>\n",
       "      <td>andhra pradesh</td>\n",
       "      <td>kharif</td>\n",
       "      <td>80</td>\n",
       "      <td>40</td>\n",
       "      <td>20</td>\n",
       "      <td>5.62</td>\n",
       "      <td>654.34</td>\n",
       "      <td>29.266667</td>\n",
       "      <td>2800.0</td>\n",
       "      <td>4900.0</td>\n",
       "      <td>1.750000</td>\n",
       "      <td>4</td>\n",
       "    </tr>\n",
       "    <tr>\n",
       "      <th>4</th>\n",
       "      <td>4</td>\n",
       "      <td>andhra pradesh</td>\n",
       "      <td>kharif</td>\n",
       "      <td>20</td>\n",
       "      <td>40</td>\n",
       "      <td>20</td>\n",
       "      <td>5.68</td>\n",
       "      <td>654.34</td>\n",
       "      <td>29.266667</td>\n",
       "      <td>1300.0</td>\n",
       "      <td>500.0</td>\n",
       "      <td>0.384615</td>\n",
       "      <td>5</td>\n",
       "    </tr>\n",
       "  </tbody>\n",
       "</table>\n",
       "</div>"
      ],
      "text/plain": [
       "   Unnamed: 0      State_Name Crop_Type    N   P   K    pH  rainfall   \n",
       "0           0  andhra pradesh    kharif  120  40  20  5.46    654.34  \\\n",
       "1           1  andhra pradesh    kharif   20  60  20  6.18    654.34   \n",
       "2           2  andhra pradesh    kharif   80  40  40  5.42    654.34   \n",
       "3           3  andhra pradesh    kharif   80  40  20  5.62    654.34   \n",
       "4           4  andhra pradesh    kharif   20  40  20  5.68    654.34   \n",
       "\n",
       "   temperature  Area_in_hectares  Production_in_tons  Yield_ton_per_hec  Crop  \n",
       "0    29.266667            7300.0              9400.0           1.287671     1  \n",
       "1    29.266667            3300.0              1000.0           0.303030     3  \n",
       "2    29.266667           10100.0             10200.0           1.009901     2  \n",
       "3    29.266667            2800.0              4900.0           1.750000     4  \n",
       "4    29.266667            1300.0               500.0           0.384615     5  "
      ]
     },
     "execution_count": 13,
     "metadata": {},
     "output_type": "execute_result"
    }
   ],
   "source": [
    "data_set.head()"
   ]
  },
  {
   "cell_type": "code",
   "execution_count": 14,
   "metadata": {},
   "outputs": [
    {
     "data": {
      "text/plain": [
       "(99827, 13)"
      ]
     },
     "execution_count": 14,
     "metadata": {},
     "output_type": "execute_result"
    }
   ],
   "source": [
    "data_set.shape"
   ]
  },
  {
   "cell_type": "code",
   "execution_count": 15,
   "metadata": {},
   "outputs": [
    {
     "data": {
      "text/html": [
       "<div>\n",
       "<style scoped>\n",
       "    .dataframe tbody tr th:only-of-type {\n",
       "        vertical-align: middle;\n",
       "    }\n",
       "\n",
       "    .dataframe tbody tr th {\n",
       "        vertical-align: top;\n",
       "    }\n",
       "\n",
       "    .dataframe thead th {\n",
       "        text-align: right;\n",
       "    }\n",
       "</style>\n",
       "<table border=\"1\" class=\"dataframe\">\n",
       "  <thead>\n",
       "    <tr style=\"text-align: right;\">\n",
       "      <th></th>\n",
       "      <th>Unnamed: 0</th>\n",
       "      <th>N</th>\n",
       "      <th>P</th>\n",
       "      <th>K</th>\n",
       "      <th>pH</th>\n",
       "      <th>rainfall</th>\n",
       "      <th>temperature</th>\n",
       "      <th>Area_in_hectares</th>\n",
       "      <th>Production_in_tons</th>\n",
       "      <th>Yield_ton_per_hec</th>\n",
       "      <th>Crop</th>\n",
       "    </tr>\n",
       "  </thead>\n",
       "  <tbody>\n",
       "    <tr>\n",
       "      <th>count</th>\n",
       "      <td>99827.000000</td>\n",
       "      <td>99827.000000</td>\n",
       "      <td>99827.000000</td>\n",
       "      <td>99827.000000</td>\n",
       "      <td>99827.000000</td>\n",
       "      <td>99827.000000</td>\n",
       "      <td>99827.000000</td>\n",
       "      <td>99827.000000</td>\n",
       "      <td>9.982700e+04</td>\n",
       "      <td>99827.000000</td>\n",
       "      <td>99827.000000</td>\n",
       "    </tr>\n",
       "    <tr>\n",
       "      <th>mean</th>\n",
       "      <td>49926.686067</td>\n",
       "      <td>69.816483</td>\n",
       "      <td>41.593907</td>\n",
       "      <td>42.036373</td>\n",
       "      <td>5.643616</td>\n",
       "      <td>701.110678</td>\n",
       "      <td>26.683940</td>\n",
       "      <td>16480.164759</td>\n",
       "      <td>3.776982e+04</td>\n",
       "      <td>3.931511</td>\n",
       "      <td>11.064642</td>\n",
       "    </tr>\n",
       "    <tr>\n",
       "      <th>std</th>\n",
       "      <td>28826.675865</td>\n",
       "      <td>39.571385</td>\n",
       "      <td>15.052453</td>\n",
       "      <td>28.426910</td>\n",
       "      <td>0.505298</td>\n",
       "      <td>604.762055</td>\n",
       "      <td>4.851727</td>\n",
       "      <td>43608.404049</td>\n",
       "      <td>1.222565e+05</td>\n",
       "      <td>33.875783</td>\n",
       "      <td>7.736309</td>\n",
       "    </tr>\n",
       "    <tr>\n",
       "      <th>min</th>\n",
       "      <td>0.000000</td>\n",
       "      <td>10.000000</td>\n",
       "      <td>10.000000</td>\n",
       "      <td>10.000000</td>\n",
       "      <td>3.820000</td>\n",
       "      <td>3.274569</td>\n",
       "      <td>1.180000</td>\n",
       "      <td>0.580000</td>\n",
       "      <td>0.000000e+00</td>\n",
       "      <td>0.000000</td>\n",
       "      <td>1.000000</td>\n",
       "    </tr>\n",
       "    <tr>\n",
       "      <th>25%</th>\n",
       "      <td>24956.500000</td>\n",
       "      <td>50.000000</td>\n",
       "      <td>40.000000</td>\n",
       "      <td>20.000000</td>\n",
       "      <td>5.360000</td>\n",
       "      <td>157.310000</td>\n",
       "      <td>23.106000</td>\n",
       "      <td>130.000000</td>\n",
       "      <td>1.630000e+02</td>\n",
       "      <td>0.586601</td>\n",
       "      <td>5.000000</td>\n",
       "    </tr>\n",
       "    <tr>\n",
       "      <th>50%</th>\n",
       "      <td>49935.000000</td>\n",
       "      <td>75.000000</td>\n",
       "      <td>40.000000</td>\n",
       "      <td>30.000000</td>\n",
       "      <td>5.540000</td>\n",
       "      <td>579.750000</td>\n",
       "      <td>27.333333</td>\n",
       "      <td>1010.000000</td>\n",
       "      <td>1.507000e+03</td>\n",
       "      <td>1.329650</td>\n",
       "      <td>9.000000</td>\n",
       "    </tr>\n",
       "    <tr>\n",
       "      <th>75%</th>\n",
       "      <td>74891.500000</td>\n",
       "      <td>80.000000</td>\n",
       "      <td>60.000000</td>\n",
       "      <td>50.000000</td>\n",
       "      <td>5.960000</td>\n",
       "      <td>1110.780000</td>\n",
       "      <td>29.266667</td>\n",
       "      <td>8100.000000</td>\n",
       "      <td>1.440000e+04</td>\n",
       "      <td>2.997404</td>\n",
       "      <td>16.000000</td>\n",
       "    </tr>\n",
       "    <tr>\n",
       "      <th>max</th>\n",
       "      <td>99848.000000</td>\n",
       "      <td>180.000000</td>\n",
       "      <td>125.000000</td>\n",
       "      <td>200.000000</td>\n",
       "      <td>7.000000</td>\n",
       "      <td>3322.060000</td>\n",
       "      <td>35.346667</td>\n",
       "      <td>726300.000000</td>\n",
       "      <td>3.530571e+06</td>\n",
       "      <td>9801.000000</td>\n",
       "      <td>54.000000</td>\n",
       "    </tr>\n",
       "  </tbody>\n",
       "</table>\n",
       "</div>"
      ],
      "text/plain": [
       "         Unnamed: 0             N             P             K            pH   \n",
       "count  99827.000000  99827.000000  99827.000000  99827.000000  99827.000000  \\\n",
       "mean   49926.686067     69.816483     41.593907     42.036373      5.643616   \n",
       "std    28826.675865     39.571385     15.052453     28.426910      0.505298   \n",
       "min        0.000000     10.000000     10.000000     10.000000      3.820000   \n",
       "25%    24956.500000     50.000000     40.000000     20.000000      5.360000   \n",
       "50%    49935.000000     75.000000     40.000000     30.000000      5.540000   \n",
       "75%    74891.500000     80.000000     60.000000     50.000000      5.960000   \n",
       "max    99848.000000    180.000000    125.000000    200.000000      7.000000   \n",
       "\n",
       "           rainfall   temperature  Area_in_hectares  Production_in_tons   \n",
       "count  99827.000000  99827.000000      99827.000000        9.982700e+04  \\\n",
       "mean     701.110678     26.683940      16480.164759        3.776982e+04   \n",
       "std      604.762055      4.851727      43608.404049        1.222565e+05   \n",
       "min        3.274569      1.180000          0.580000        0.000000e+00   \n",
       "25%      157.310000     23.106000        130.000000        1.630000e+02   \n",
       "50%      579.750000     27.333333       1010.000000        1.507000e+03   \n",
       "75%     1110.780000     29.266667       8100.000000        1.440000e+04   \n",
       "max     3322.060000     35.346667     726300.000000        3.530571e+06   \n",
       "\n",
       "       Yield_ton_per_hec          Crop  \n",
       "count       99827.000000  99827.000000  \n",
       "mean            3.931511     11.064642  \n",
       "std            33.875783      7.736309  \n",
       "min             0.000000      1.000000  \n",
       "25%             0.586601      5.000000  \n",
       "50%             1.329650      9.000000  \n",
       "75%             2.997404     16.000000  \n",
       "max          9801.000000     54.000000  "
      ]
     },
     "execution_count": 15,
     "metadata": {},
     "output_type": "execute_result"
    }
   ],
   "source": [
    "data_set.describe()"
   ]
  },
  {
   "cell_type": "code",
   "execution_count": 16,
   "metadata": {},
   "outputs": [
    {
     "data": {
      "text/plain": [
       "Unnamed: 0            0\n",
       "State_Name            0\n",
       "Crop_Type             0\n",
       "N                     0\n",
       "P                     0\n",
       "K                     0\n",
       "pH                    0\n",
       "rainfall              0\n",
       "temperature           0\n",
       "Area_in_hectares      0\n",
       "Production_in_tons    0\n",
       "Yield_ton_per_hec     0\n",
       "Crop                  0\n",
       "dtype: int64"
      ]
     },
     "execution_count": 16,
     "metadata": {},
     "output_type": "execute_result"
    }
   ],
   "source": [
    "data_set.isnull().sum()"
   ]
  },
  {
   "cell_type": "code",
   "execution_count": 17,
   "metadata": {},
   "outputs": [
    {
     "data": {
      "text/plain": [
       "Crop\n",
       "7     11430\n",
       "4      9857\n",
       "5      6855\n",
       "10     6291\n",
       "9      6225\n",
       "12     5413\n",
       "2      5369\n",
       "16     5323\n",
       "15     5164\n",
       "8      3682\n",
       "1      3157\n",
       "21     3139\n",
       "6      2995\n",
       "17     2899\n",
       "3      2784\n",
       "20     2562\n",
       "22     2408\n",
       "11     2325\n",
       "23     2253\n",
       "24     2138\n",
       "14     1154\n",
       "18     1134\n",
       "13     1058\n",
       "27      732\n",
       "25      571\n",
       "33      330\n",
       "36      284\n",
       "30      282\n",
       "35      281\n",
       "26      237\n",
       "29      217\n",
       "34      146\n",
       "37      125\n",
       "39      117\n",
       "44      105\n",
       "32      104\n",
       "42       90\n",
       "41       73\n",
       "31       72\n",
       "40       67\n",
       "47       59\n",
       "28       58\n",
       "38       58\n",
       "46       45\n",
       "50       31\n",
       "45       28\n",
       "48       25\n",
       "52       19\n",
       "51       18\n",
       "54       18\n",
       "49       12\n",
       "43        6\n",
       "53        2\n",
       "Name: count, dtype: int64"
      ]
     },
     "execution_count": 17,
     "metadata": {},
     "output_type": "execute_result"
    }
   ],
   "source": [
    "data_set['Crop'].value_counts()"
   ]
  },
  {
   "cell_type": "code",
   "execution_count": 18,
   "metadata": {},
   "outputs": [],
   "source": [
    "X = data_set.drop(columns=['State_Name','Crop_Type','Area_in_hectares','Production_in_tons', 'Yield_ton_per_hec','K','Crop'], axis = 1)\n",
    "Y = data_set['Crop']"
   ]
  },
  {
   "cell_type": "code",
   "execution_count": 19,
   "metadata": {},
   "outputs": [
    {
     "name": "stdout",
     "output_type": "stream",
     "text": [
      "       Unnamed: 0    N   P    pH  rainfall  temperature\n",
      "0               0  120  40  5.46    654.34    29.266667\n",
      "1               1   20  60  6.18    654.34    29.266667\n",
      "2               2   80  40  5.42    654.34    29.266667\n",
      "3               3   80  40  5.62    654.34    29.266667\n",
      "4               4   20  40  5.68    654.34    29.266667\n",
      "...           ...  ...  ..   ...       ...          ...\n",
      "99822       99844   60  30  6.70    152.54    22.280000\n",
      "99823       99845   80  40  5.68    182.50    29.200000\n",
      "99824       99846   80  40  5.64    182.50    29.200000\n",
      "99825       99847   80  40  5.42    152.54    22.280000\n",
      "99826       99848   30  15  6.54    152.54    22.280000\n",
      "\n",
      "[99827 rows x 6 columns]\n"
     ]
    }
   ],
   "source": [
    "print(X)"
   ]
  },
  {
   "cell_type": "code",
   "execution_count": 20,
   "metadata": {},
   "outputs": [
    {
     "name": "stdout",
     "output_type": "stream",
     "text": [
      "0         1\n",
      "1         3\n",
      "2         2\n",
      "3         4\n",
      "4         5\n",
      "         ..\n",
      "99822     9\n",
      "99823     4\n",
      "99824     7\n",
      "99825     7\n",
      "99826    10\n",
      "Name: Crop, Length: 99827, dtype: int64\n"
     ]
    }
   ],
   "source": [
    "print(Y)"
   ]
  },
  {
   "cell_type": "code",
   "execution_count": 21,
   "metadata": {},
   "outputs": [
    {
     "data": {
      "text/html": [
       "<style>#sk-container-id-1 {color: black;background-color: white;}#sk-container-id-1 pre{padding: 0;}#sk-container-id-1 div.sk-toggleable {background-color: white;}#sk-container-id-1 label.sk-toggleable__label {cursor: pointer;display: block;width: 100%;margin-bottom: 0;padding: 0.3em;box-sizing: border-box;text-align: center;}#sk-container-id-1 label.sk-toggleable__label-arrow:before {content: \"▸\";float: left;margin-right: 0.25em;color: #696969;}#sk-container-id-1 label.sk-toggleable__label-arrow:hover:before {color: black;}#sk-container-id-1 div.sk-estimator:hover label.sk-toggleable__label-arrow:before {color: black;}#sk-container-id-1 div.sk-toggleable__content {max-height: 0;max-width: 0;overflow: hidden;text-align: left;background-color: #f0f8ff;}#sk-container-id-1 div.sk-toggleable__content pre {margin: 0.2em;color: black;border-radius: 0.25em;background-color: #f0f8ff;}#sk-container-id-1 input.sk-toggleable__control:checked~div.sk-toggleable__content {max-height: 200px;max-width: 100%;overflow: auto;}#sk-container-id-1 input.sk-toggleable__control:checked~label.sk-toggleable__label-arrow:before {content: \"▾\";}#sk-container-id-1 div.sk-estimator input.sk-toggleable__control:checked~label.sk-toggleable__label {background-color: #d4ebff;}#sk-container-id-1 div.sk-label input.sk-toggleable__control:checked~label.sk-toggleable__label {background-color: #d4ebff;}#sk-container-id-1 input.sk-hidden--visually {border: 0;clip: rect(1px 1px 1px 1px);clip: rect(1px, 1px, 1px, 1px);height: 1px;margin: -1px;overflow: hidden;padding: 0;position: absolute;width: 1px;}#sk-container-id-1 div.sk-estimator {font-family: monospace;background-color: #f0f8ff;border: 1px dotted black;border-radius: 0.25em;box-sizing: border-box;margin-bottom: 0.5em;}#sk-container-id-1 div.sk-estimator:hover {background-color: #d4ebff;}#sk-container-id-1 div.sk-parallel-item::after {content: \"\";width: 100%;border-bottom: 1px solid gray;flex-grow: 1;}#sk-container-id-1 div.sk-label:hover label.sk-toggleable__label {background-color: #d4ebff;}#sk-container-id-1 div.sk-serial::before {content: \"\";position: absolute;border-left: 1px solid gray;box-sizing: border-box;top: 0;bottom: 0;left: 50%;z-index: 0;}#sk-container-id-1 div.sk-serial {display: flex;flex-direction: column;align-items: center;background-color: white;padding-right: 0.2em;padding-left: 0.2em;position: relative;}#sk-container-id-1 div.sk-item {position: relative;z-index: 1;}#sk-container-id-1 div.sk-parallel {display: flex;align-items: stretch;justify-content: center;background-color: white;position: relative;}#sk-container-id-1 div.sk-item::before, #sk-container-id-1 div.sk-parallel-item::before {content: \"\";position: absolute;border-left: 1px solid gray;box-sizing: border-box;top: 0;bottom: 0;left: 50%;z-index: -1;}#sk-container-id-1 div.sk-parallel-item {display: flex;flex-direction: column;z-index: 1;position: relative;background-color: white;}#sk-container-id-1 div.sk-parallel-item:first-child::after {align-self: flex-end;width: 50%;}#sk-container-id-1 div.sk-parallel-item:last-child::after {align-self: flex-start;width: 50%;}#sk-container-id-1 div.sk-parallel-item:only-child::after {width: 0;}#sk-container-id-1 div.sk-dashed-wrapped {border: 1px dashed gray;margin: 0 0.4em 0.5em 0.4em;box-sizing: border-box;padding-bottom: 0.4em;background-color: white;}#sk-container-id-1 div.sk-label label {font-family: monospace;font-weight: bold;display: inline-block;line-height: 1.2em;}#sk-container-id-1 div.sk-label-container {text-align: center;}#sk-container-id-1 div.sk-container {/* jupyter's `normalize.less` sets `[hidden] { display: none; }` but bootstrap.min.css set `[hidden] { display: none !important; }` so we also need the `!important` here to be able to override the default hidden behavior on the sphinx rendered scikit-learn.org. See: https://github.com/scikit-learn/scikit-learn/issues/21755 */display: inline-block !important;position: relative;}#sk-container-id-1 div.sk-text-repr-fallback {display: none;}</style><div id=\"sk-container-id-1\" class=\"sk-top-container\"><div class=\"sk-text-repr-fallback\"><pre>StandardScaler()</pre><b>In a Jupyter environment, please rerun this cell to show the HTML representation or trust the notebook. <br />On GitHub, the HTML representation is unable to render, please try loading this page with nbviewer.org.</b></div><div class=\"sk-container\" hidden><div class=\"sk-item\"><div class=\"sk-estimator sk-toggleable\"><input class=\"sk-toggleable__control sk-hidden--visually\" id=\"sk-estimator-id-1\" type=\"checkbox\" checked><label for=\"sk-estimator-id-1\" class=\"sk-toggleable__label sk-toggleable__label-arrow\">StandardScaler</label><div class=\"sk-toggleable__content\"><pre>StandardScaler()</pre></div></div></div></div></div>"
      ],
      "text/plain": [
       "StandardScaler()"
      ]
     },
     "execution_count": 21,
     "metadata": {},
     "output_type": "execute_result"
    }
   ],
   "source": [
    "scaler = StandardScaler()\n",
    "scaler.fit(X)"
   ]
  },
  {
   "cell_type": "code",
   "execution_count": 22,
   "metadata": {},
   "outputs": [],
   "source": [
    "standardized_data = scaler.transform(X)"
   ]
  },
  {
   "cell_type": "code",
   "execution_count": 23,
   "metadata": {},
   "outputs": [
    {
     "name": "stdout",
     "output_type": "stream",
     "text": [
      "[[-1.73196994  1.26818327 -0.10589074 -0.36338302 -0.07733771  0.53233405]\n",
      " [-1.73193525 -1.25890796  1.22280299  1.06152694 -0.07733771  0.53233405]\n",
      " [-1.73190056  0.25734678 -0.10589074 -0.44254469 -0.07733771  0.53233405]\n",
      " ...\n",
      " [ 1.7317142   0.25734678 -0.10589074 -0.00715553 -0.8575493   0.51859317]\n",
      " [ 1.73174889  0.25734678 -0.10589074 -0.44254469 -0.90708969 -0.90771023]\n",
      " [ 1.73178358 -1.00619884 -1.76675791  1.77398193 -0.90708969 -0.90771023]]\n"
     ]
    }
   ],
   "source": [
    "print(standardized_data)"
   ]
  },
  {
   "cell_type": "code",
   "execution_count": 24,
   "metadata": {},
   "outputs": [],
   "source": [
    "X = standardized_data\n",
    "Y = data_set['Crop']"
   ]
  },
  {
   "cell_type": "code",
   "execution_count": 25,
   "metadata": {},
   "outputs": [
    {
     "name": "stdout",
     "output_type": "stream",
     "text": [
      "[[-1.73196994  1.26818327 -0.10589074 -0.36338302 -0.07733771  0.53233405]\n",
      " [-1.73193525 -1.25890796  1.22280299  1.06152694 -0.07733771  0.53233405]\n",
      " [-1.73190056  0.25734678 -0.10589074 -0.44254469 -0.07733771  0.53233405]\n",
      " ...\n",
      " [ 1.7317142   0.25734678 -0.10589074 -0.00715553 -0.8575493   0.51859317]\n",
      " [ 1.73174889  0.25734678 -0.10589074 -0.44254469 -0.90708969 -0.90771023]\n",
      " [ 1.73178358 -1.00619884 -1.76675791  1.77398193 -0.90708969 -0.90771023]]\n",
      "0         1\n",
      "1         3\n",
      "2         2\n",
      "3         4\n",
      "4         5\n",
      "         ..\n",
      "99822     9\n",
      "99823     4\n",
      "99824     7\n",
      "99825     7\n",
      "99826    10\n",
      "Name: Crop, Length: 99827, dtype: int64\n"
     ]
    }
   ],
   "source": [
    "print(X)\n",
    "print(Y)"
   ]
  },
  {
   "cell_type": "code",
   "execution_count": 26,
   "metadata": {},
   "outputs": [],
   "source": [
    "X_train, X_test,Y_train,Y_test = train_test_split(X, Y, test_size=.1, stratify=Y, random_state=8)"
   ]
  },
  {
   "cell_type": "code",
   "execution_count": 27,
   "metadata": {},
   "outputs": [
    {
     "name": "stdout",
     "output_type": "stream",
     "text": [
      "(99827, 6) (89844, 6) (9983, 6) (89844,) (9983,)\n"
     ]
    }
   ],
   "source": [
    "print(X.shape, X_train.shape, X_test.shape, Y_train.shape, Y_test.shape)"
   ]
  },
  {
   "cell_type": "code",
   "execution_count": 28,
   "metadata": {},
   "outputs": [],
   "source": [
    "classifier = svm.SVC(kernel='linear')"
   ]
  },
  {
   "cell_type": "code",
   "execution_count": 29,
   "metadata": {},
   "outputs": [
    {
     "data": {
      "text/html": [
       "<style>#sk-container-id-2 {color: black;background-color: white;}#sk-container-id-2 pre{padding: 0;}#sk-container-id-2 div.sk-toggleable {background-color: white;}#sk-container-id-2 label.sk-toggleable__label {cursor: pointer;display: block;width: 100%;margin-bottom: 0;padding: 0.3em;box-sizing: border-box;text-align: center;}#sk-container-id-2 label.sk-toggleable__label-arrow:before {content: \"▸\";float: left;margin-right: 0.25em;color: #696969;}#sk-container-id-2 label.sk-toggleable__label-arrow:hover:before {color: black;}#sk-container-id-2 div.sk-estimator:hover label.sk-toggleable__label-arrow:before {color: black;}#sk-container-id-2 div.sk-toggleable__content {max-height: 0;max-width: 0;overflow: hidden;text-align: left;background-color: #f0f8ff;}#sk-container-id-2 div.sk-toggleable__content pre {margin: 0.2em;color: black;border-radius: 0.25em;background-color: #f0f8ff;}#sk-container-id-2 input.sk-toggleable__control:checked~div.sk-toggleable__content {max-height: 200px;max-width: 100%;overflow: auto;}#sk-container-id-2 input.sk-toggleable__control:checked~label.sk-toggleable__label-arrow:before {content: \"▾\";}#sk-container-id-2 div.sk-estimator input.sk-toggleable__control:checked~label.sk-toggleable__label {background-color: #d4ebff;}#sk-container-id-2 div.sk-label input.sk-toggleable__control:checked~label.sk-toggleable__label {background-color: #d4ebff;}#sk-container-id-2 input.sk-hidden--visually {border: 0;clip: rect(1px 1px 1px 1px);clip: rect(1px, 1px, 1px, 1px);height: 1px;margin: -1px;overflow: hidden;padding: 0;position: absolute;width: 1px;}#sk-container-id-2 div.sk-estimator {font-family: monospace;background-color: #f0f8ff;border: 1px dotted black;border-radius: 0.25em;box-sizing: border-box;margin-bottom: 0.5em;}#sk-container-id-2 div.sk-estimator:hover {background-color: #d4ebff;}#sk-container-id-2 div.sk-parallel-item::after {content: \"\";width: 100%;border-bottom: 1px solid gray;flex-grow: 1;}#sk-container-id-2 div.sk-label:hover label.sk-toggleable__label {background-color: #d4ebff;}#sk-container-id-2 div.sk-serial::before {content: \"\";position: absolute;border-left: 1px solid gray;box-sizing: border-box;top: 0;bottom: 0;left: 50%;z-index: 0;}#sk-container-id-2 div.sk-serial {display: flex;flex-direction: column;align-items: center;background-color: white;padding-right: 0.2em;padding-left: 0.2em;position: relative;}#sk-container-id-2 div.sk-item {position: relative;z-index: 1;}#sk-container-id-2 div.sk-parallel {display: flex;align-items: stretch;justify-content: center;background-color: white;position: relative;}#sk-container-id-2 div.sk-item::before, #sk-container-id-2 div.sk-parallel-item::before {content: \"\";position: absolute;border-left: 1px solid gray;box-sizing: border-box;top: 0;bottom: 0;left: 50%;z-index: -1;}#sk-container-id-2 div.sk-parallel-item {display: flex;flex-direction: column;z-index: 1;position: relative;background-color: white;}#sk-container-id-2 div.sk-parallel-item:first-child::after {align-self: flex-end;width: 50%;}#sk-container-id-2 div.sk-parallel-item:last-child::after {align-self: flex-start;width: 50%;}#sk-container-id-2 div.sk-parallel-item:only-child::after {width: 0;}#sk-container-id-2 div.sk-dashed-wrapped {border: 1px dashed gray;margin: 0 0.4em 0.5em 0.4em;box-sizing: border-box;padding-bottom: 0.4em;background-color: white;}#sk-container-id-2 div.sk-label label {font-family: monospace;font-weight: bold;display: inline-block;line-height: 1.2em;}#sk-container-id-2 div.sk-label-container {text-align: center;}#sk-container-id-2 div.sk-container {/* jupyter's `normalize.less` sets `[hidden] { display: none; }` but bootstrap.min.css set `[hidden] { display: none !important; }` so we also need the `!important` here to be able to override the default hidden behavior on the sphinx rendered scikit-learn.org. See: https://github.com/scikit-learn/scikit-learn/issues/21755 */display: inline-block !important;position: relative;}#sk-container-id-2 div.sk-text-repr-fallback {display: none;}</style><div id=\"sk-container-id-2\" class=\"sk-top-container\"><div class=\"sk-text-repr-fallback\"><pre>SVC(kernel=&#x27;linear&#x27;)</pre><b>In a Jupyter environment, please rerun this cell to show the HTML representation or trust the notebook. <br />On GitHub, the HTML representation is unable to render, please try loading this page with nbviewer.org.</b></div><div class=\"sk-container\" hidden><div class=\"sk-item\"><div class=\"sk-estimator sk-toggleable\"><input class=\"sk-toggleable__control sk-hidden--visually\" id=\"sk-estimator-id-2\" type=\"checkbox\" checked><label for=\"sk-estimator-id-2\" class=\"sk-toggleable__label sk-toggleable__label-arrow\">SVC</label><div class=\"sk-toggleable__content\"><pre>SVC(kernel=&#x27;linear&#x27;)</pre></div></div></div></div></div>"
      ],
      "text/plain": [
       "SVC(kernel='linear')"
      ]
     },
     "execution_count": 29,
     "metadata": {},
     "output_type": "execute_result"
    }
   ],
   "source": [
    "classifier.fit(X_train, Y_train)"
   ]
  },
  {
   "cell_type": "code",
   "execution_count": 30,
   "metadata": {},
   "outputs": [],
   "source": [
    "X_train_prediction = classifier.predict(X_train)\n",
    "training_data_accuracy = accuracy_score(X_train_prediction, Y_train)"
   ]
  },
  {
   "cell_type": "code",
   "execution_count": 31,
   "metadata": {},
   "outputs": [
    {
     "name": "stdout",
     "output_type": "stream",
     "text": [
      "Accuracy on training data :  0.835258893192645\n"
     ]
    }
   ],
   "source": [
    "print('Accuracy on training data : ', training_data_accuracy)"
   ]
  },
  {
   "cell_type": "code",
   "execution_count": 32,
   "metadata": {},
   "outputs": [],
   "source": [
    "X_test_prediction = classifier.predict(X_test)\n",
    "test_data_accuray = accuracy_score(X_test_prediction,Y_test)"
   ]
  },
  {
   "cell_type": "code",
   "execution_count": 33,
   "metadata": {},
   "outputs": [
    {
     "name": "stdout",
     "output_type": "stream",
     "text": [
      "Accuracy on test data :  0.8354202143644195\n"
     ]
    }
   ],
   "source": [
    "print('Accuracy on test data : ', test_data_accuray)"
   ]
  },
  {
   "cell_type": "code",
   "execution_count": 34,
   "metadata": {},
   "outputs": [
    {
     "name": "stdout",
     "output_type": "stream",
     "text": [
      "[[-1.73193525 -1.25890796  1.22280299  1.06152694 -0.07733771 -5.43745395]]\n",
      "[3]\n",
      "The Crop is Horsegram\n"
     ]
    },
    {
     "name": "stderr",
     "output_type": "stream",
     "text": [
      "c:\\Users\\namra\\AppData\\Local\\Programs\\Python\\Python310\\lib\\site-packages\\sklearn\\base.py:450: UserWarning: X does not have valid feature names, but StandardScaler was fitted with feature names\n",
      "  warnings.warn(\n"
     ]
    }
   ],
   "source": [
    "input_data = (1,20,60,6.18,654.34,0.303030303)\n",
    "\n",
    "input_data_array = np.asarray(input_data)\n",
    "\n",
    "input_data_reshaped = input_data_array.reshape(1, -1)\n",
    "\n",
    "std_data = scaler.transform(input_data_reshaped)\n",
    "print(std_data)\n",
    "\n",
    "prediction = classifier.predict(std_data)\n",
    "print(prediction)\n",
    "\n",
    "if (prediction[0] == 1):\n",
    "  print('The Crop is Cotton')\n",
    "\n",
    "if (prediction[0] == 2):\n",
    "  print('The Crop is Jowar')\n",
    "\n",
    "if (prediction[0] == 3):\n",
    "  print('The Crop is Horsegram')\n",
    "\n",
    "if (prediction[0] == 4):\n",
    "  print('The Crop is Maize')\n",
    "\n",
    "if (prediction[0] == 5):\n",
    "  print('The Crop is Moong')\n",
    "\n",
    "if (prediction[0] == 6):\n",
    "  print('The Crop is Raagi')\n",
    "\n",
    "if (prediction[0] == 7):\n",
    "  print('The Crop is Rice')\n",
    "\n",
    "if (prediction[0] == 8):\n",
    "  print('The Crop is Sunflower')\n",
    "\n",
    "if (prediction[0] == 9):\n",
    "  print('The Crop is Wheat')\n",
    "\n",
    "if (prediction[0] == 10):\n",
    "  print('The Crop is Sesamum')\n",
    "\n",
    "if (prediction[0] == 11):\n",
    "  print('The Crop is Soyabean')\n",
    "\n",
    "if (prediction[0] == 12):\n",
    "  print('The Crop is Repeseed')\n",
    "\n",
    "if (prediction[0] == 13):\n",
    "  print('The Crop is Jute')\n",
    "\n",
    "if (prediction[0] == 14):\n",
    "  print('The Crop is Arccanut')\n",
    "\n",
    "if (prediction[0] == 15):\n",
    "  print('The Crop is Onion')\n",
    "\n",
    "if (prediction[0] == 16):\n",
    "  print('The Crop is Potato')\n",
    "\n",
    "if (prediction[0] == 17):\n",
    "  print('The Crop is Sweet16')\n",
    "\n",
    "if (prediction[0] == 18):\n",
    "  print('The Crop is ')\n",
    "\n",
    "if (prediction[0] == 19):\n",
    "  print('The Crop is Tapioca')\n",
    "\n",
    "if (prediction[0] == 20):\n",
    "  print('The Crop is Turmeric')\n",
    "\n",
    "if (prediction[0] == 21):\n",
    "  print('The Crop is Barley')\n",
    "\n",
    "if (prediction[0] == 22):\n",
    "  print('The Crop is Banana')\n",
    "\n",
    "if (prediction[0] == 23):\n",
    "  print('The Crop is Coriender')\n",
    "\n",
    "if (prediction[0] == 24):\n",
    "  print('The Crop is Garlic')\n",
    "\n",
    "# if (prediction[0] == ):\n",
    "#   print('The Crop is ')\n",
    "\n",
    "\n",
    "\n"
   ]
  }
 ],
 "metadata": {
  "kernelspec": {
   "display_name": "Python 3",
   "language": "python",
   "name": "python3"
  },
  "language_info": {
   "codemirror_mode": {
    "name": "ipython",
    "version": 3
   },
   "file_extension": ".py",
   "mimetype": "text/x-python",
   "name": "python",
   "nbconvert_exporter": "python",
   "pygments_lexer": "ipython3",
   "version": "3.10.2"
  }
 },
 "nbformat": 4,
 "nbformat_minor": 2
}
